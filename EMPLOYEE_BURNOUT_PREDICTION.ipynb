{
  "nbformat": 4,
  "nbformat_minor": 0,
  "metadata": {
    "colab": {
      "provenance": [],
      "authorship_tag": "ABX9TyOG8OEMxaw/XZlZOXRPXahm",
      "include_colab_link": true
    },
    "kernelspec": {
      "name": "python3",
      "display_name": "Python 3"
    },
    "language_info": {
      "name": "python"
    }
  },
  "cells": [
    {
      "cell_type": "markdown",
      "metadata": {
        "id": "view-in-github",
        "colab_type": "text"
      },
      "source": [
        "<a href=\"https://colab.research.google.com/github/Praneeth-gamidi/Praneeth-gamidi/blob/main/EMPLOYEE_BURNOUT_PREDICTION.ipynb\" target=\"_parent\"><img src=\"https://colab.research.google.com/assets/colab-badge.svg\" alt=\"Open In Colab\"/></a>"
      ]
    },
    {
      "cell_type": "code",
      "execution_count": null,
      "metadata": {
        "id": "1d7skCO0FIX7"
      },
      "outputs": [],
      "source": []
    },
    {
      "cell_type": "markdown",
      "source": [
        "Employee Burnout Prediction"
      ],
      "metadata": {
        "id": "Z_NShvZNNfVG"
      }
    },
    {
      "cell_type": "markdown",
      "source": [],
      "metadata": {
        "id": "ZZfSt157Run-"
      }
    },
    {
      "cell_type": "markdown",
      "source": [],
      "metadata": {
        "id": "tMAKO2ZoQ7sr"
      }
    },
    {
      "cell_type": "code",
      "source": [],
      "metadata": {
        "id": "7Brwr5q3Q5ON"
      },
      "execution_count": null,
      "outputs": []
    },
    {
      "cell_type": "code",
      "source": [
        "#importing necessary libraries\n",
        "import numpy as np\n",
        "import pandas as pd\n",
        "import matplotlib.pyplot as plt\n",
        "import seaborn as sns\n",
        "from sklearn.model_selection import train_test_split\n",
        "from sklearn.preprocessing import StandardScaler\n",
        "from sklearn.linear_model import LinearRegression\n",
        "from sklearn.metrics import mean_squared_error,mean_absolute_error,r2_score\n",
        "import pickle as pickle\n",
        "import os\n"
      ],
      "metadata": {
        "id": "t9J4eQMzOxUF"
      },
      "execution_count": null,
      "outputs": []
    },
    {
      "cell_type": "markdown",
      "source": [],
      "metadata": {
        "id": "Qx8QjOFQR6HU"
      }
    },
    {
      "cell_type": "markdown",
      "source": [
        "Loading Dataset"
      ],
      "metadata": {
        "id": "NVH-ViaxQ-Rp"
      }
    },
    {
      "cell_type": "code",
      "source": [
        "data=pd.read_excel('/content/employee_burnout_analysis-AI (1).xlsx')"
      ],
      "metadata": {
        "id": "6hMXaYAaR7gD"
      },
      "execution_count": null,
      "outputs": []
    },
    {
      "cell_type": "code",
      "source": [
        "data.head(4)\n"
      ],
      "metadata": {
        "id": "fNHRkjTkTngn"
      },
      "execution_count": null,
      "outputs": []
    },
    {
      "cell_type": "code",
      "source": [
        "data.info()\n"
      ],
      "metadata": {
        "id": "LxDxkKQ7Tu9b"
      },
      "execution_count": null,
      "outputs": []
    },
    {
      "cell_type": "code",
      "source": [
        "data.isnull().sum()"
      ],
      "metadata": {
        "id": "MBURk7oYUuGT"
      },
      "execution_count": null,
      "outputs": []
    },
    {
      "cell_type": "code",
      "source": [
        "data.isnull().sum().values.sum()"
      ],
      "metadata": {
        "id": "fVb4YimiElxU"
      },
      "execution_count": null,
      "outputs": []
    },
    {
      "cell_type": "code",
      "source": [
        "data.tail(4)"
      ],
      "metadata": {
        "id": "V6CAR25DNo0T"
      },
      "execution_count": null,
      "outputs": []
    },
    {
      "cell_type": "code",
      "source": [
        "data.describe()"
      ],
      "metadata": {
        "id": "n3kVwCWQTyOM"
      },
      "execution_count": null,
      "outputs": []
    },
    {
      "cell_type": "code",
      "source": [
        "data.columns.tolist()\n"
      ],
      "metadata": {
        "id": "d-lJ-UC3U56W"
      },
      "execution_count": null,
      "outputs": []
    },
    {
      "cell_type": "markdown",
      "source": [
        "#NUMBER OF CATOGORIES IN EACH COLUMN"
      ],
      "metadata": {
        "id": "xjQy7gKlVQma"
      }
    },
    {
      "cell_type": "code",
      "source": [
        "data.nunique()"
      ],
      "metadata": {
        "id": "IZS-CukRVCrn"
      },
      "execution_count": null,
      "outputs": []
    },
    {
      "cell_type": "markdown",
      "source": [
        "INFORMATION OF DATA"
      ],
      "metadata": {
        "id": "x5WPxrBFVcfU"
      }
    },
    {
      "cell_type": "code",
      "source": [
        "data.info()"
      ],
      "metadata": {
        "id": "knHkL6gfVKk8"
      },
      "execution_count": null,
      "outputs": []
    },
    {
      "cell_type": "code",
      "source": [
        "data=data.dropna()"
      ],
      "metadata": {
        "id": "ocim9SjGYAH2"
      },
      "execution_count": null,
      "outputs": []
    },
    {
      "cell_type": "code",
      "source": [
        "data.shape"
      ],
      "metadata": {
        "id": "uxcWDox7YEEN"
      },
      "execution_count": null,
      "outputs": []
    },
    {
      "cell_type": "code",
      "source": [
        "data.isnull()"
      ],
      "metadata": {
        "id": "FLG7d8JIE3Gx"
      },
      "execution_count": null,
      "outputs": []
    },
    {
      "cell_type": "code",
      "source": [
        "data.isnull().sum().values.sum()"
      ],
      "metadata": {
        "id": "RN9oi3nQFyx_"
      },
      "execution_count": null,
      "outputs": []
    },
    {
      "cell_type": "markdown",
      "source": [
        "**EXPLORATORY DATA ANALYSIS**\n",
        "\n",
        "There are NaN values on our target(\"Burn rate\") and also in resource allocation and mental fatigue score columns.As we going to perform supervised linear regression,our target variable is needed to do so.Therefore,these 1124 rows with NaN Values must be dropped off of our dataframe."
      ],
      "metadata": {
        "id": "M502UMHTGD3q"
      }
    },
    {
      "cell_type": "code",
      "source": [
        "data.corr(numeric_only=True)['Burn Rate'][:-1]"
      ],
      "metadata": {
        "id": "2OPechcWF5xG"
      },
      "execution_count": null,
      "outputs": []
    },
    {
      "cell_type": "code",
      "source": [
        "sns.pairplot(data)\n",
        "plt.show()"
      ],
      "metadata": {
        "id": "GMmKp4kBJuHe"
      },
      "execution_count": null,
      "outputs": []
    },
    {
      "cell_type": "code",
      "source": [
        "data = data.dropna()"
      ],
      "metadata": {
        "id": "t_YCV5tjM-n6"
      },
      "execution_count": null,
      "outputs": []
    },
    {
      "cell_type": "code",
      "source": [
        "data.shape"
      ],
      "metadata": {
        "id": "ze_E5sLw9fmD"
      },
      "execution_count": null,
      "outputs": []
    },
    {
      "cell_type": "code",
      "source": [
        "data.dtypes"
      ],
      "metadata": {
        "id": "F8VQCH_RAZtO"
      },
      "execution_count": null,
      "outputs": []
    },
    {
      "cell_type": "code",
      "source": [
        "data = data.drop('Employee ID',axis = 1)"
      ],
      "metadata": {
        "id": "kucTqU1UAcgW"
      },
      "execution_count": null,
      "outputs": []
    },
    {
      "cell_type": "markdown",
      "source": [
        "CHECKING THE CORRELATION OF  DATE OF JOINING AND TARGET VARIABLE."
      ],
      "metadata": {
        "id": "ac5tUeXuBewK"
      }
    },
    {
      "cell_type": "code",
      "source": [
        "data.head(5)"
      ],
      "metadata": {
        "id": "LbJwjnjAkjMO"
      },
      "execution_count": null,
      "outputs": []
    },
    {
      "cell_type": "code",
      "source": [
        "data.isna().sum()"
      ],
      "metadata": {
        "id": "1tOTRAQJk-Ik"
      },
      "execution_count": null,
      "outputs": []
    },
    {
      "cell_type": "code",
      "source": [
        "data.nunique()"
      ],
      "metadata": {
        "id": "wxz4AGRemjsK"
      },
      "execution_count": null,
      "outputs": []
    },
    {
      "cell_type": "code",
      "source": [
        "data"
      ],
      "metadata": {
        "id": "bc_UDnC5nzPa"
      },
      "execution_count": null,
      "outputs": []
    },
    {
      "cell_type": "code",
      "source": [
        "data.head()"
      ],
      "metadata": {
        "id": "AFRiflUOrbYD"
      },
      "execution_count": null,
      "outputs": []
    },
    {
      "cell_type": "code",
      "source": [
        "data.dtypes\n"
      ],
      "metadata": {
        "id": "smQahJAr1Sg0"
      },
      "execution_count": null,
      "outputs": []
    },
    {
      "cell_type": "code",
      "source": [
        "print(f\"Min date{data['Date of Joining'].min()}\")\n",
        "print(f\"Max date{data['Date of Joining'].max()}\")\n",
        "data_month = data.copy()\n",
        "data_month[\"Date of Joining\"] = data_month['Date of Joining'].astype(\"datetime64[ns]\")\n",
        "data_month[\"Date of Joining\"].groupby(data_month['Date of Joining'].dt.month).count().plot(kind = \"bar\",xlabel='Month',ylabel='Hired employees')"
      ],
      "metadata": {
        "id": "SQsBwyPM3chD"
      },
      "execution_count": null,
      "outputs": []
    },
    {
      "cell_type": "code",
      "source": [
        "data_2008 = pd.to_datetime([\"2008-01-01\"]*len(data))\n",
        "data[\"Days\"] = data['Date of Joining'].astype(\"datetime64[ns]\").sub(data_2008).dt.days\n",
        "data.Days"
      ],
      "metadata": {
        "id": "cSxoCObX6gHS"
      },
      "execution_count": null,
      "outputs": []
    },
    {
      "cell_type": "code",
      "source": [
        "numeric_data = data.select_dtypes(include=['number'])\n",
        "correlation = numeric_data.corr()['Burn Rate']\n",
        "print(correlation)"
      ],
      "metadata": {
        "id": "aDBsw2Pl7vJS"
      },
      "execution_count": null,
      "outputs": []
    },
    {
      "cell_type": "code",
      "source": [
        "data.corr(numeric_only=True)['Burn Rate'][:]"
      ],
      "metadata": {
        "id": "fn7MtXx280Zh"
      },
      "execution_count": null,
      "outputs": []
    },
    {
      "cell_type": "code",
      "source": [
        "data = data.drop(['Date of Joining','Days'],axis = 1)"
      ],
      "metadata": {
        "id": "ooS1ssre9KiC"
      },
      "execution_count": null,
      "outputs": []
    },
    {
      "cell_type": "code",
      "source": [
        "data.head()"
      ],
      "metadata": {
        "id": "tmf69jt6_vH6"
      },
      "execution_count": null,
      "outputs": []
    },
    {
      "cell_type": "markdown",
      "source": [
        "NOW ANALYZING THE CATEGORICAL VALUES"
      ],
      "metadata": {
        "id": "d3aj2Nt38R2k"
      }
    },
    {
      "cell_type": "code",
      "source": [
        "data.dtypes"
      ],
      "metadata": {
        "id": "J9inPuHz6owY"
      },
      "execution_count": null,
      "outputs": []
    },
    {
      "cell_type": "code",
      "source": [
        "import seaborn as sns\n",
        "import matplotlib.pyplot as plt\n",
        "\n",
        "cat_columns = data.select_dtypes(object).columns\n",
        "fig, ax = plt.subplots(nrows=1, ncols=len(cat_columns), sharey=True, figsize=(10, 5))\n",
        "\n",
        "for i, c in enumerate(cat_columns):\n",
        "    sns.countplot(x=c, data=data, ax=ax[i])\n",
        "\n",
        "plt.show()\n"
      ],
      "metadata": {
        "id": "_xfeCkuODzSy"
      },
      "execution_count": null,
      "outputs": []
    },
    {
      "cell_type": "markdown",
      "source": [
        "ONE-HOT ENCODING FOR CATEGORICAL FEATURES"
      ],
      "metadata": {
        "id": "50l3E-ZrF9W-"
      }
    },
    {
      "cell_type": "code",
      "source": [
        "if all(col in data.columns for col in ['Company Type','WFH Setup Available','Gender']):\n",
        "  data = pd.get_dummies(data, columns=['Company Type','WFH Setup Available','Gender'], drop_first=True)\n",
        "  data.head()\n",
        "  encoded_columns = data.columns\n",
        "else:\n",
        "    print(\"Error:One or more of the specified columns are not present in the DataFrame.\")\n",
        "    print(data.columns)"
      ],
      "metadata": {
        "id": "98kpMHvRGFYq"
      },
      "execution_count": null,
      "outputs": []
    },
    {
      "cell_type": "markdown",
      "source": [],
      "metadata": {
        "id": "z-cYSmqYF7g6"
      }
    },
    {
      "cell_type": "markdown",
      "source": [
        "**Preprocessing**"
      ],
      "metadata": {
        "id": "3FGkOLv9HT5r"
      }
    },
    {
      "cell_type": "code",
      "source": [
        "#split data into X and Y\n",
        "y = data['Burn Rate']\n",
        "X =data.drop('Burn Rate', axis=1)"
      ],
      "metadata": {
        "id": "8QY4KXkYHWmD"
      },
      "execution_count": null,
      "outputs": []
    },
    {
      "cell_type": "code",
      "source": [
        "# Train_test_split\n",
        "X_train,X_test,y_train,y_test = train_test_split(X,y,train_size=0.7, shuffle=True, random_state=1)\n",
        "\n",
        "# Scale X\n",
        "scaler = StandardScaler()\n",
        "scaler.fit(X_train)\n",
        "X_train = pd.DataFrame(scaler.transform(X_train), index=X_train.index, columns=X_train.columns)\n",
        "X_test = pd.DataFrame(scaler.transform(X_test), index=X_test.index, columns=X_test.columns)"
      ],
      "metadata": {
        "id": "RBTqKHfXHy30"
      },
      "execution_count": null,
      "outputs": []
    },
    {
      "cell_type": "code",
      "source": [
        "import os\n",
        "import pickle\n",
        "\n",
        "scaler_filename = '../models/scaler.pkl'\n",
        "#Create the 'models' directory if it doesnt exist\n",
        "os.makedirs(os.path.dirname(scaler_filename), exist_ok=True)\n",
        "\n",
        "#use pickle to save the scaler to the file\n",
        "with open(scaler_filename,'wb') as scaler_file:\n",
        "    pickle.dump(scaler, scaler_file) # Removed extra space here"
      ],
      "metadata": {
        "id": "xFj6DC6EMSGy"
      },
      "execution_count": null,
      "outputs": []
    },
    {
      "cell_type": "code",
      "source": [
        "X_train"
      ],
      "metadata": {
        "id": "s05clvvzMVSI"
      },
      "execution_count": null,
      "outputs": []
    },
    {
      "cell_type": "code",
      "source": [
        "y_train"
      ],
      "metadata": {
        "id": "Z3OEkA1-MhiZ"
      },
      "execution_count": null,
      "outputs": []
    },
    {
      "cell_type": "code",
      "source": [
        "import os\n",
        "import pickle\n",
        "\n",
        "#saving the processed data\n",
        "path = '../data/processed/'\n",
        "\n",
        "#create the directory if it doesnt exist\n",
        "os.makedirs(path, exist_ok=True)\n",
        "\n",
        "# Use the correct syntax to save the DataFrames to CSV files\n",
        "X_train.to_csv(path + 'X_train_processed.csv', index=False) # Changed 'to.' to 'to'\n",
        "y_train.to_csv(path + 'y_train_processed.csv', index=False) # Changed 'to.' to 'to'"
      ],
      "metadata": {
        "id": "jnPZuAA3NrG3"
      },
      "execution_count": null,
      "outputs": []
    },
    {
      "cell_type": "markdown",
      "source": [
        "**MODELLING**"
      ],
      "metadata": {
        "id": "GuRZfSo4N5Av"
      }
    },
    {
      "cell_type": "markdown",
      "source": [
        "Linear **Regression**"
      ],
      "metadata": {
        "id": "qFSJ0_XmOLGu"
      }
    },
    {
      "cell_type": "code",
      "source": [
        "#from sklearn.linear_model import Linear Regression\n",
        "#create an instance of the Linear Regression class\n",
        "linear_regression_model = LinearRegression()\n",
        "\n",
        "#Train the model\n",
        "linear_regression_model.fit(X_train,y_train)"
      ],
      "metadata": {
        "id": "yoQu3FSjN7na"
      },
      "execution_count": null,
      "outputs": []
    },
    {
      "cell_type": "code",
      "source": [
        "#Linear Regression Model Performance Metrics\n",
        "\n",
        "print(\"Linear Regression Model Performance Metrics:\\n\")\n",
        "#Make predictions on the test set\n",
        "y_pred = linear_regression_model.predict(X_test)\n",
        "\n",
        "#Calculate mean-squared error\n",
        "mse = mean_squared_error(y_test,y_pred)\n",
        "print(\"Mean Squared Error:\",mse)\n",
        "\n",
        "#Calculate root mean squared error\n",
        "rmse = mean_squared_error(y_test,y_pred, squared=False)\n",
        "print(\"Root Mean Squared Error:\", rmse)\n",
        "\n",
        "#calculate mean absolute error\n",
        "mae = mean_absolute_error(y_test,y_pred)\n",
        "print(\"Mean Absolute Error:\", mae)\n",
        "\n",
        "#calculate R-squared score\n",
        "r2 = r2_score(y_test,y_pred)\n",
        "print(\"R-squared score:\",r2)"
      ],
      "metadata": {
        "id": "Qj0ni6sHO-2-"
      },
      "execution_count": null,
      "outputs": []
    },
    {
      "cell_type": "markdown",
      "source": [
        "# Prediction and **Recommendations**"
      ],
      "metadata": {
        "id": "cqXRO2sz4oIJ"
      }
    },
    {
      "cell_type": "markdown",
      "source": [],
      "metadata": {
        "id": "mpS40ngz3t0_"
      }
    },
    {
      "cell_type": "code",
      "source": [
        "y_pred"
      ],
      "metadata": {
        "id": "YcsnlKJv6Xw_"
      },
      "execution_count": null,
      "outputs": []
    },
    {
      "cell_type": "code",
      "source": [
        "def categorize_risk(y_pred):\n",
        "    if y_pred < 0.3:\n",
        "        return 'Low'\n",
        "    elif y_pred < 0.6:\n",
        "        return 'Moderate'\n",
        "    else:\n",
        "        return 'High'"
      ],
      "metadata": {
        "id": "86rioDiJ6dCQ"
      },
      "execution_count": null,
      "outputs": []
    },
    {
      "cell_type": "code",
      "source": [],
      "metadata": {
        "id": "4SVkvOIm930A"
      },
      "execution_count": null,
      "outputs": []
    },
    {
      "cell_type": "code",
      "source": [
        "risk_categories = [categorize_risk(pred) for pred in y_pred]\n"
      ],
      "metadata": {
        "id": "rEWb9uF1_Z9X"
      },
      "execution_count": null,
      "outputs": []
    },
    {
      "cell_type": "code",
      "source": [
        "for i in range(len(y_pred)):\n",
        "    print(f\"Predicted Burn Rate: {y_pred[i]:.2f}, Risk Category: {risk_categories[i]}\")"
      ],
      "metadata": {
        "collapsed": true,
        "id": "NwCLmg0v_cCq"
      },
      "execution_count": null,
      "outputs": []
    },
    {
      "cell_type": "code",
      "source": [
        "# Assuming 'Burn Rate' is the actual column containing numerical burn rate values\n",
        "data['Risk Category'] = data['Burn Rate'].apply(categorize_risk)"
      ],
      "metadata": {
        "id": "JFeCaZgpAJDU"
      },
      "execution_count": null,
      "outputs": []
    },
    {
      "cell_type": "code",
      "source": [
        "print(data)"
      ],
      "metadata": {
        "id": "dPJzpYomA2v5"
      },
      "execution_count": null,
      "outputs": []
    }
  ]
}